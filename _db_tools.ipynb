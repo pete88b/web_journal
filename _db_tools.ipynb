{
 "cells": [
  {
   "cell_type": "code",
   "execution_count": null,
   "id": "composed-dodge",
   "metadata": {},
   "outputs": [],
   "source": [
    "import sqlite3"
   ]
  },
  {
   "cell_type": "code",
   "execution_count": null,
   "id": "expressed-costume",
   "metadata": {},
   "outputs": [],
   "source": [
    "db = sqlite3.connect('instance/web_journal.sqlite', detect_types=sqlite3.PARSE_DECLTYPES)\n",
    "db.row_factory = sqlite3.Row"
   ]
  },
  {
   "cell_type": "code",
   "execution_count": null,
   "id": "universal-helmet",
   "metadata": {},
   "outputs": [],
   "source": [
    "cursor = db.execute(\n",
    "    \"SELECT p.id, title, body, created, author_id, username\"\n",
    "    \"  FROM post p JOIN user u ON p.author_id = u.id\"\n",
    "    \" ORDER BY created DESC\"\n",
    ")\n",
    "posts=cursor.fetchall()"
   ]
  },
  {
   "cell_type": "code",
   "execution_count": null,
   "id": "smart-advisory",
   "metadata": {},
   "outputs": [
    {
     "data": {
      "text/plain": [
       "datetime.datetime(2021, 2, 24, 20, 21)"
      ]
     },
     "execution_count": null,
     "metadata": {},
     "output_type": "execute_result"
    }
   ],
   "source": [
    "posts[0]['created']"
   ]
  },
  {
   "cell_type": "code",
   "execution_count": null,
   "id": "entitled-given",
   "metadata": {},
   "outputs": [
    {
     "data": {
      "text/plain": [
       "'2021-02-24T20:27:53.883984+00:00'"
      ]
     },
     "execution_count": null,
     "metadata": {},
     "output_type": "execute_result"
    }
   ],
   "source": [
    "import datetime\n",
    "datetime.datetime.now(tz=datetime.timezone.utc).isoformat()"
   ]
  },
  {
   "cell_type": "code",
   "execution_count": null,
   "id": "opening-century",
   "metadata": {},
   "outputs": [
    {
     "data": {
      "text/plain": [
       "((('id', None, None, None, None, None, None),\n",
       "  ('author_id', None, None, None, None, None, None),\n",
       "  ('created', None, None, None, None, None, None),\n",
       "  ('title', None, None, None, None, None, None),\n",
       "  ('body', None, None, None, None, None, None),\n",
       "  ('is_deleted', None, None, None, None, None, None)),\n",
       " ['id', 'author_id', 'created', 'title', 'body', 'is_deleted'])"
      ]
     },
     "execution_count": null,
     "metadata": {},
     "output_type": "execute_result"
    }
   ],
   "source": [
    "cursor = db.execute('select * from post')\n",
    "names = [description[0] for description in cursor.description]\n",
    "cursor.description, names"
   ]
  },
  {
   "cell_type": "code",
   "execution_count": null,
   "id": "precise-saturday",
   "metadata": {},
   "outputs": [
    {
     "name": "stdout",
     "output_type": "stream",
     "text": [
      "['id', 'author_id', 'created', 'title', 'body', 'is_deleted']\n",
      "[1, 1, datetime.datetime(2021, 2, 17, 20, 41, 3), 'Plan', \"This is what we'll do tomorrow\", 0]\n",
      "[2, 1, datetime.datetime(2021, 2, 17, 20, 41, 21), 'Today', 'we did this ...\\r\\nand that ', 0]\n",
      "[3, 1, datetime.datetime(2021, 2, 17, 20, 41, 32), 'opps', 'delet me', 1]\n"
     ]
    }
   ],
   "source": [
    "rows = db.execute('select * from post').fetchall()\n",
    "keys = rows[0].keys()\n",
    "print(keys)\n",
    "for row in rows:\n",
    "    print([row[key] for key in keys])"
   ]
  },
  {
   "cell_type": "code",
   "execution_count": null,
   "id": "capital-notion",
   "metadata": {},
   "outputs": [],
   "source": [
    "db.close()"
   ]
  }
 ],
 "metadata": {
  "kernelspec": {
   "display_name": "Python 3",
   "language": "python",
   "name": "python3"
  }
 },
 "nbformat": 4,
 "nbformat_minor": 5
}
