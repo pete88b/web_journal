{
 "cells": [
  {
   "cell_type": "code",
   "execution_count": null,
   "metadata": {},
   "outputs": [],
   "source": [
    "#hide\n",
    "from web_journal.core import *"
   ]
  },
  {
   "cell_type": "markdown",
   "metadata": {},
   "source": [
    "# Web Journal\n",
    "\n",
    "> A place to plan and journal. Inspired by coursera learning how to learn."
   ]
  },
  {
   "cell_type": "markdown",
   "metadata": {},
   "source": [
    "## Overview"
   ]
  },
  {
   "cell_type": "markdown",
   "metadata": {},
   "source": [
    "This project starts with the [Flask basic blog](https://flask.palletsprojects.com/en/1.1.x/tutorial/) and makes it work as a journal for me (o:\n",
    "\n",
    "At some point, I'll turn this into or create a [solid web app](https://solidproject.org/) but for now ... I need to  learn a few things about python apps with RDBMS and Azure deployments."
   ]
  },
  {
   "cell_type": "markdown",
   "metadata": {},
   "source": [
    "# Developers\n",
    "\n",
    "```\n",
    "git config --global core.autocrlf input\n",
    "```\n",
    "\n",
    "```\n",
    "conda create -n web_journal python==3.8 -y\n",
    "conda activate web_journal\n",
    "pip install fastscript==1.0.0 fastcore==1.3.10 nbdev==1.1.5 jupyter\n",
    "pip install Flask Markdown\n",
    "cd github *** nav to where you want this project to live on your filesystem\n",
    "git clone https://github.com/pete88b/web_journal.git\n",
    "nbdev_install_git_hooks\n",
    "jupyter notebook\n",
    "```\n",
    "\n",
    "TODO: see settings.ini dev_requirements"
   ]
  },
  {
   "cell_type": "markdown",
   "metadata": {},
   "source": [
    "## Running the app locally\n",
    "\n",
    "```\n",
    "SET FLASK_APP=web_journal.web.app\n",
    "SET FLASK_ENV=development\n",
    "flask run\n",
    "```"
   ]
  },
  {
   "cell_type": "markdown",
   "metadata": {},
   "source": [
    "## Type checking with mypy\n",
    "\n",
    "```\n",
    "!pip install mypy\n",
    "```\n",
    "\n",
    "Then from the web_journal project folder\n",
    "```\n",
    "nbdev_build_lib\n",
    "mypy web_journal/core.py\n",
    "```"
   ]
  }
 ],
 "metadata": {
  "kernelspec": {
   "display_name": "Python 3",
   "language": "python",
   "name": "python3"
  }
 },
 "nbformat": 4,
 "nbformat_minor": 2
}
