{
 "cells": [
  {
   "cell_type": "code",
   "execution_count": 1,
   "metadata": {},
   "outputs": [],
   "source": [
    "#hide\n",
    "from storage_tools.core import *"
   ]
  },
  {
   "cell_type": "markdown",
   "metadata": {},
   "source": [
    "# Storage tools\n",
    "\n",
    "> The goal of this project is to make it easy to work with local or cloud storage as part of a data science workflow."
   ]
  },
  {
   "cell_type": "markdown",
   "metadata": {},
   "source": [
    "## Key Features\n",
    "\n",
    "### You can access a dataset with a single command ...\n",
    "\n",
    "e.g. `download_dataset azure_demo mnist/hand_drawn_digits`\n",
    "\n",
    "### ... or a few lines of python\n",
    "\n",
    "Just import the storage tools core module, create a client and download your dataset.\n",
    "\n",
    "### You don't put secret keys in your code\n",
    "\n",
    "Secret keys live in their own files and storage tools knows how to find them.\n",
    "\n",
    "### Datasets are version controlled\n",
    "\n",
    "Storage tools makes it easy to \n",
    "- manage multiple versions of a dataset and\n",
    "- know which version of the dataset you are working with locally."
   ]
  },
  {
   "cell_type": "markdown",
   "metadata": {},
   "source": [
    "## Install"
   ]
  },
  {
   "cell_type": "markdown",
   "metadata": {},
   "source": [
    "`pip install storage_tools`"
   ]
  },
  {
   "cell_type": "markdown",
   "metadata": {},
   "source": [
    "## Storage tools conventions\n",
    "\n",
    "We recommend that you ...\n",
    "\n",
    "### Use forward slashes on all platforms\n",
    "\n",
    "Use forward slashes when specifying files, paths and dataset names.\n",
    "\n",
    "### Avoid whitespace and special characters in file and path names\n",
    "\n",
    "### Use folders for secrets and data\n",
    "\n",
    "<pre>\n",
    "project_root\n",
    "  &angrt; data\n",
    "  &angrt; secrets\n",
    "    &angrt; settings.ini\n",
    "</pre>\n",
    "\n",
    "Add the following to `.gitignore`\n",
    "```\n",
    "secrets/\n",
    "data/\n",
    "```\n",
    "\n",
    "Add the following to `settings.ini`\n",
    "```\n",
    "[DEFAULT]\n",
    "local_path=data\n",
    "```\n",
    "\n",
    "Running storage_client from your project root will read `project_root/secrets/settings.ini` and save all local data to `project_root/data`"
   ]
  },
  {
   "cell_type": "markdown",
   "metadata": {},
   "source": [
    "## How to use azure storage"
   ]
  },
  {
   "cell_type": "markdown",
   "metadata": {},
   "source": [
    "If we follow the above conventions and have a project folder containing\n",
    "\n",
    "<pre>\n",
    "project_root\n",
    "  &angrt; data\n",
    "    &angrt; mnist\n",
    "      &angrt; hand_drawn_digits\n",
    "        &angrt; digit0.png\n",
    "        &angrt; digit1.png\n",
    "        &angrt; ...\n",
    "  &angrt; secrets\n",
    "    &angrt; settings.ini\n",
    "&angrt; main.py\n",
    "</pre>\n",
    "\n",
    "where `settings.ini` contains\n",
    "\n",
    "```\n",
    "[DEFAULT]\n",
    "local_path=data\n",
    "\n",
    "[azure_demo]\n",
    "storage_client=storage_tools.core.AzureStorageClient\n",
    "conn_str=<A connection string to an Azure Storage account without credential>\n",
    "credential=<The credentials with which to authenticate>\n",
    "container=<The name of a storage container>\n",
    "```\n",
    "\n",
    "We can use `main.py` to\n",
    "\n",
    "### Create a new storage_client\n",
    "\n",
    "```\n",
    "storage_client=new_storage_client('azure_demo')\n",
    "```\n",
    "\n",
    "### List files in the azure container (remote)\n",
    "\n",
    "```\n",
    "storage_client.ls()\n",
    "```\n",
    "\n",
    "### List files in data (local)\n",
    "\n",
    "```\n",
    "storage_client.ls('local_path')\n",
    "```\n",
    "\n",
    "### Create a new version of a dataset\n",
    "\n",
    "```\n",
    "storage_client.upload_dataset('mnist/hand_drawn_digits','major')\n",
    "```\n",
    "\n",
    "Note: If you run `storage_client.ls()` again, you'll see the new file in the azure container.\n",
    "\n",
    "### Download the latest version of a dataset\n",
    "\n",
    "Feel free to delete your local copy of this dataset (from data) to download from azure storage.\n",
    "\n",
    "```\n",
    "storage_client.download_dataset('mnist/hand_drawn_digits')\n",
    "```\n",
    "\n",
    "Note: If you run `storage_client.ls('local_path')` again, you'll see the dataset in data."
   ]
  },
  {
   "cell_type": "markdown",
   "metadata": {},
   "source": [
    "See [BlobServiceClient docs](https://docs.microsoft.com/en-us/python/api/azure-storage-blob/azure.storage.blob.blobserviceclient?view=azure-python) for more details on the settings used in `settings.ini`\n",
    "- `from_connection_string` (`conn_str` and `credential`)\n",
    "- `get_container_client` (`container`)"
   ]
  },
  {
   "cell_type": "markdown",
   "metadata": {},
   "source": [
    "## How to use AWS storage"
   ]
  },
  {
   "cell_type": "markdown",
   "metadata": {},
   "source": [
    "It's the same as Azure except `settings.ini` contains\n",
    "\n",
    "```\n",
    "[DEFAULT]\n",
    "local_path=data\n",
    "\n",
    "[aws_demo]\n",
    "storage_client=storage_tools.core.AwsStorageClient\n",
    "service_name=s3\n",
    "aws_access_key_id=<An AWS access key ID>\n",
    "aws_secret_access_key=<An AWS access key>\n",
    "bucket=<The name of an AWS bucket that the access key is allowed to read from and write to>\n",
    "```"
   ]
  },
  {
   "cell_type": "markdown",
   "metadata": {},
   "source": [
    "# Developers\n",
    "\n",
    "```\n",
    "git config --global core.autocrlf input\n",
    "```\n",
    "\n",
    "```\n",
    "!pip install fastcore\n",
    "!pip install boto3\n",
    "!pip install azure-storage-blob\n",
    "```"
   ]
  },
  {
   "cell_type": "markdown",
   "metadata": {},
   "source": [
    "## Type checking with mypy\n",
    "\n",
    "```\n",
    "!pip install mypy\n",
    "```\n",
    "\n",
    "Then from the storage_tools project folder\n",
    "```\n",
    "nbdev_build_lib\n",
    "mypy storage_tools/core.py\n",
    "```\n",
    "\n",
    "For now, I'm ignoring the \"Skipping analyzing 'azure': found module but no type hints or library stubs\" error"
   ]
  }
 ],
 "metadata": {
  "kernelspec": {
   "display_name": "Python 3",
   "language": "python",
   "name": "python3"
  },
  "language_info": {
   "codemirror_mode": {
    "name": "ipython",
    "version": 3
   },
   "file_extension": ".py",
   "mimetype": "text/x-python",
   "name": "python",
   "nbconvert_exporter": "python",
   "pygments_lexer": "ipython3",
   "version": "3.7.7"
  }
 },
 "nbformat": 4,
 "nbformat_minor": 2
}
