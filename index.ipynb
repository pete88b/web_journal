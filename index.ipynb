{
 "cells": [
  {
   "cell_type": "code",
   "execution_count": null,
   "metadata": {},
   "outputs": [],
   "source": [
    "#hide\n",
    "from web_journal.core import *"
   ]
  },
  {
   "cell_type": "markdown",
   "metadata": {},
   "source": [
    "# We Journal\n",
    "\n",
    "> A place to plan and journal inspired by coursera learning how to learn."
   ]
  },
  {
   "cell_type": "markdown",
   "metadata": {},
   "source": [
    "## Install"
   ]
  },
  {
   "cell_type": "markdown",
   "metadata": {},
   "source": [
    "`pip install ` TODO:"
   ]
  },
  {
   "cell_type": "markdown",
   "metadata": {},
   "source": [
    "# Developers\n",
    "\n",
    "```\n",
    "git config --global core.autocrlf input\n",
    "```\n",
    "\n",
    "```\n",
    "conda create -n web_journal python==3.8 -y\n",
    "conda activate web_journal\n",
    "pip install fastscript==1.0.0 fastcore==1.3.10 nbdev==1.1.5 jupyter\n",
    "cd github *** nav to where you want this project to live on your filesystem\n",
    "git clone https://github.com/pete88b/web_journal.git\n",
    "nbdev_install_git_hooks\n",
    "jupyter notebook\n",
    "```"
   ]
  },
  {
   "cell_type": "markdown",
   "metadata": {},
   "source": [
    "## Type checking with mypy\n",
    "\n",
    "```\n",
    "!pip install mypy\n",
    "```\n",
    "\n",
    "Then from the storage_tools project folder\n",
    "```\n",
    "nbdev_build_lib\n",
    "mypy web_journal/core.py\n",
    "```\n",
    "\n",
    "For now, I'm ignoring the \"Skipping analyzing 'azure': found module but no type hints or library stubs\" error"
   ]
  }
 ],
 "metadata": {
  "kernelspec": {
   "display_name": "Python 3",
   "language": "python",
   "name": "python3"
  }
 },
 "nbformat": 4,
 "nbformat_minor": 2
}
