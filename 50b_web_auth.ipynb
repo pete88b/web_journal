{
 "cells": [
  {
   "cell_type": "code",
   "execution_count": null,
   "id": "parental-approval",
   "metadata": {},
   "outputs": [],
   "source": [
    "#default_exp web.auth"
   ]
  },
  {
   "cell_type": "markdown",
   "id": "popular-tract",
   "metadata": {},
   "source": [
    "# Web Auth\n",
    "\n",
    "> Handles user registration and authentication."
   ]
  },
  {
   "cell_type": "code",
   "execution_count": null,
   "id": "overhead-knock",
   "metadata": {},
   "outputs": [],
   "source": [
    "#export\n",
    "import functools\n",
    "\n",
    "from flask import Blueprint\n",
    "from flask import flash\n",
    "from flask import g, current_app\n",
    "from flask import redirect\n",
    "from flask import render_template\n",
    "from flask import request\n",
    "from flask import session\n",
    "from flask import url_for\n",
    "from werkzeug.security import check_password_hash\n",
    "from werkzeug.security import generate_password_hash"
   ]
  },
  {
   "cell_type": "code",
   "execution_count": null,
   "id": "gentle-argument",
   "metadata": {},
   "outputs": [],
   "source": [
    "#export\n",
    "bp = Blueprint(\"auth\", __name__, url_prefix=\"/auth\")\n",
    "\n",
    "def login_required(view):\n",
    "    \"\"\"View decorator that redirects anonymous users to the login page.\"\"\"\n",
    "    @functools.wraps(view)\n",
    "    def wrapped_view(**kwargs):\n",
    "        if g.user is None:\n",
    "            return redirect(url_for(\"auth.login\"))\n",
    "        return view(**kwargs)\n",
    "    return wrapped_view\n",
    "\n",
    "@bp.before_app_request\n",
    "def load_logged_in_user():\n",
    "    \"\"\"If a user id is stored in the session, load the user object from\n",
    "    the database into ``g.user``.\"\"\"\n",
    "    user_id = session.get(\"user_id\")\n",
    "\n",
    "    if user_id is None:\n",
    "        g.user = None\n",
    "    else:\n",
    "        g.user = g.service.read_user_by_id(user_id)"
   ]
  },
  {
   "cell_type": "code",
   "execution_count": null,
   "id": "demanding-firmware",
   "metadata": {},
   "outputs": [],
   "source": [
    "#export\n",
    "@bp.route(\"/login\", methods=(\"GET\", \"POST\"))\n",
    "def login():\n",
    "    \"\"\"Log in a registered user by adding the user id to the session.\"\"\"\n",
    "    if request.method == \"POST\":\n",
    "        username = request.form[\"username\"]\n",
    "        password = request.form[\"password\"]\n",
    "        error = None\n",
    "        user = g.service.read_user_by_username(username)\n",
    "        \n",
    "        if not username: error = \"Username is required.\"\n",
    "        elif not password: error = \"Password is required.\"  \n",
    "        elif 'login' in request.form:\n",
    "            if user is None:\n",
    "                error = \"Incorrect username.\"\n",
    "            elif not check_password_hash(user[\"password\"], password):\n",
    "                error = \"Incorrect password.\"\n",
    "        elif 'register' in request.form:\n",
    "            if 'USERNAME_SUFFIX' in current_app.config:\n",
    "                if not username.endswith(current_app.config['USERNAME_SUFFIX']):\n",
    "                    error = f\"Sorry, registration is restricted.\"\n",
    "            if user: \n",
    "                error = f\"User {username} is already registered.\"\n",
    "        else:\n",
    "            error = \"Unknown action: we only know about login and register\"\n",
    "\n",
    "        if error is None:\n",
    "            if 'register' in request.form:\n",
    "                # the name is available, store it in the database and read the new user row\n",
    "                g.service.create_user(username, generate_password_hash(password))\n",
    "                user=g.service.read_user_by_username(username)\n",
    "            # store the user id in a new session and return to the index\n",
    "            session.clear()\n",
    "            session[\"user_id\"] = user[\"id\"]\n",
    "            return redirect(url_for(\"index\"))\n",
    "\n",
    "        flash(error)\n",
    "        \n",
    "    return render_template(\"auth/login.html\")"
   ]
  },
  {
   "cell_type": "code",
   "execution_count": null,
   "id": "central-cycle",
   "metadata": {},
   "outputs": [],
   "source": [
    "#export\n",
    "@bp.route(\"/logout\")\n",
    "def logout():\n",
    "    \"\"\"Clear the current session, including the stored user id.\"\"\"\n",
    "    session.clear()\n",
    "    return redirect(url_for(\"index\"))"
   ]
  },
  {
   "cell_type": "code",
   "execution_count": null,
   "id": "adequate-ending",
   "metadata": {},
   "outputs": [
    {
     "name": "stdout",
     "output_type": "stream",
     "text": [
      "Converted 00_core.ipynb.\n",
      "Converted 40a_service_db.ipynb.\n",
      "Converted 40b_service_filesystem.ipynb.\n",
      "Converted 50_web_app.ipynb.\n",
      "Converted 50b_web_auth.ipynb.\n",
      "Converted 50c_web_blog.ipynb.\n",
      "Converted index.ipynb.\n"
     ]
    }
   ],
   "source": [
    "from nbdev.export import notebook2script\n",
    "notebook2script()"
   ]
  }
 ],
 "metadata": {
  "kernelspec": {
   "display_name": "Python 3",
   "language": "python",
   "name": "python3"
  }
 },
 "nbformat": 4,
 "nbformat_minor": 5
}
