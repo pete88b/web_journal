{
 "cells": [
  {
   "cell_type": "code",
   "execution_count": null,
   "id": "numerous-comparison",
   "metadata": {},
   "outputs": [],
   "source": [
    "#default_exp web.app"
   ]
  },
  {
   "cell_type": "markdown",
   "id": "liquid-narrative",
   "metadata": {},
   "source": [
    "# Web App\n",
    "\n",
    "> Factory function that creates and configures the flask app."
   ]
  },
  {
   "cell_type": "code",
   "execution_count": null,
   "id": "consecutive-alfred",
   "metadata": {},
   "outputs": [],
   "source": [
    "#export\n",
    "import os\n",
    "from flask import Flask, g\n",
    "from pathlib import Path"
   ]
  },
  {
   "cell_type": "code",
   "execution_count": null,
   "id": "diagnostic-sapphire",
   "metadata": {},
   "outputs": [],
   "source": [
    "#export\n",
    "def create_app(test_config=None):\n",
    "    \"Create and configure an instance of the Flask application.\"\n",
    "    app = Flask(__name__, instance_relative_config=True)\n",
    "    app.config.from_mapping(\n",
    "        # a default secret that should be overridden by instance config\n",
    "        SECRET_KEY=\"dev\",\n",
    "        DATA_DIR=app.instance_path, # used by filesystem and DB service\n",
    "#         USERNAME_SUFFIX='whatever' # Don't set username suffix by default\n",
    "    )\n",
    "\n",
    "    if test_config is None:\n",
    "        # load the instance config, if it exists, when not testing\n",
    "        app.config.from_pyfile(\"config.py\", silent=True)\n",
    "    else:\n",
    "        # load the test config if passed in\n",
    "        app.config.update(test_config)\n",
    "\n",
    "    # ensure the instance folder exists\n",
    "    os.makedirs(app.config['DATA_DIR'], exist_ok=True)\n",
    "    \n",
    "    @app.route(\"/hello\")\n",
    "    def hello(): return \"Hello, World!\"\n",
    "\n",
    "    # TODO: make the service module inport configurable\n",
    "    import web_journal.service.filesystem as service_module\n",
    "#     import web_journal.service.db as service_module\n",
    "    \n",
    "    service_module.init_service(app)\n",
    "    \n",
    "    @app.before_request\n",
    "    def before_request():\n",
    "        g.service=service_module.before_request(app)\n",
    "        \n",
    "    @app.after_request\n",
    "    def after_request(response):\n",
    "        service_module.after_request(app,g.service)\n",
    "        return response\n",
    "    \n",
    "    from web_journal.web import auth, blog\n",
    "    # apply the blueprints to the app\n",
    "    app.register_blueprint(auth.bp)\n",
    "    app.register_blueprint(blog.bp)\n",
    "\n",
    "    # make url_for('index') == url_for('blog.index')\n",
    "    # in another app, you might define a separate main index here with\n",
    "    # app.route, while giving the blog blueprint a url_prefix, but for\n",
    "    # the tutorial the blog will be the main index\n",
    "    app.add_url_rule(\"/\", endpoint=\"index\")\n",
    "\n",
    "    return app"
   ]
  },
  {
   "cell_type": "code",
   "execution_count": null,
   "id": "unsigned-wedding",
   "metadata": {},
   "outputs": [
    {
     "name": "stdout",
     "output_type": "stream",
     "text": [
      "service.filesystem.init_service\n",
      "service.filesystem.init_service\n"
     ]
    }
   ],
   "source": [
    "assert not create_app().testing\n",
    "assert create_app({\"TESTING\": True}).testing"
   ]
  },
  {
   "cell_type": "code",
   "execution_count": null,
   "id": "contained-provider",
   "metadata": {},
   "outputs": [],
   "source": [
    "#hide\n",
    "from flask import Flask\n",
    "from contextlib import contextmanager\n",
    "from pathlib import Path\n",
    "import tempfile, shutil, os, web_journal.web\n",
    "\n",
    "def cd(p):\n",
    "    print('Changing working directory:') # TODO: maybe we want to suppress stdout\n",
    "    get_ipython().run_line_magic('cd', str(p))\n",
    "\n",
    "@contextmanager\n",
    "def test_resources():\n",
    "    temp_path = tempfile.mkdtemp()\n",
    "    try:\n",
    "        cwd = get_ipython().run_line_magic('pwd', '')\n",
    "        cd(Path(web_journal.web.__file__).parent)\n",
    "        app = create_app({\"TESTING\": True, \"DATA_DIR\": temp_path})\n",
    "        client = app.test_client()\n",
    "        with app.app_context():\n",
    "            yield app, client\n",
    "    finally:\n",
    "        cd(cwd)\n",
    "        shutil.rmtree(temp_path)"
   ]
  },
  {
   "cell_type": "code",
   "execution_count": null,
   "id": "spatial-concentration",
   "metadata": {},
   "outputs": [
    {
     "name": "stdout",
     "output_type": "stream",
     "text": [
      "Changing working directory:\n",
      "C:\\Users\\Butterp\\github\\pete88b\\web_journal\\web_journal\\web\n",
      "service.filesystem.init_service\n",
      "Changing working directory:\n",
      "C:\\Users\\Butterp\\github\\pete88b\\web_journal\n"
     ]
    }
   ],
   "source": [
    "with test_resources() as (app, client):\n",
    "    response = client.get(\"/hello\")\n",
    "    assert response.data == b\"Hello, World!\""
   ]
  },
  {
   "cell_type": "code",
   "execution_count": null,
   "id": "weird-addition",
   "metadata": {},
   "outputs": [
    {
     "name": "stdout",
     "output_type": "stream",
     "text": [
      "Converted 00_core.ipynb.\n",
      "Converted 40a_service_db.ipynb.\n",
      "Converted 40b_service_filesystem.ipynb.\n",
      "Converted 50_web_app.ipynb.\n",
      "Converted 50b_web_auth.ipynb.\n",
      "Converted 50c_web_blog.ipynb.\n",
      "Converted index.ipynb.\n"
     ]
    }
   ],
   "source": [
    "from nbdev.export import notebook2script\n",
    "notebook2script()"
   ]
  }
 ],
 "metadata": {
  "kernelspec": {
   "display_name": "Python 3",
   "language": "python",
   "name": "python3"
  }
 },
 "nbformat": 4,
 "nbformat_minor": 5
}
