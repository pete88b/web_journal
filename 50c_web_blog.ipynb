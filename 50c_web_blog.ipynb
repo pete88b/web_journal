{
 "cells": [
  {
   "cell_type": "code",
   "execution_count": null,
   "id": "accessory-electricity",
   "metadata": {},
   "outputs": [],
   "source": [
    "#default_exp web.blog"
   ]
  },
  {
   "cell_type": "markdown",
   "id": "suitable-simon",
   "metadata": {},
   "source": [
    "# Web Blog\n",
    "\n",
    "> Handles journal UI (endpoint and view) operatations."
   ]
  },
  {
   "cell_type": "markdown",
   "id": "foreign-secretary",
   "metadata": {},
   "source": [
    "# TODO\n",
    "\n",
    "- add journal download option"
   ]
  },
  {
   "cell_type": "code",
   "execution_count": null,
   "id": "passing-conspiracy",
   "metadata": {},
   "outputs": [],
   "source": [
    "#export\n",
    "from flask import Blueprint\n",
    "from flask import flash\n",
    "from flask import g\n",
    "from flask import redirect\n",
    "from flask import render_template\n",
    "from flask import request\n",
    "from flask import url_for\n",
    "from flask import send_from_directory\n",
    "from werkzeug.exceptions import abort\n",
    "from werkzeug.utils import secure_filename\n",
    "import tempfile,time\n",
    "import markdown\n",
    "import markdown.extensions.fenced_code\n",
    "from pathlib import Path\n",
    "\n",
    "from web_journal.web.auth import login_required\n",
    "\n",
    "bp = Blueprint(\"blog\", __name__)"
   ]
  },
  {
   "cell_type": "code",
   "execution_count": null,
   "id": "vertical-affect",
   "metadata": {},
   "outputs": [],
   "source": [
    "#export\n",
    "@bp.route(\"/\")\n",
    "@login_required\n",
    "def index():\n",
    "    \"\"\"Show all the posts, most recent first.\"\"\"\n",
    "    posts = []\n",
    "    if g.user is not None:\n",
    "        posts = g.service.read_posts_by_author_id(g.user[\"id\"])\n",
    "    for post in posts: # TODO: move this to blog index template\n",
    "        post['body']=markdown.markdown(post['body'], extensions=['fenced_code'])\n",
    "    return render_template(\"blog/index.html\", posts=posts)"
   ]
  },
  {
   "cell_type": "code",
   "execution_count": null,
   "id": "dietary-novelty",
   "metadata": {},
   "outputs": [],
   "source": [
    "#export\n",
    "def get_post(id, check_author=True):\n",
    "    \"\"\"Get a post and its author by id.\n",
    "    Checks that the id exists and optionally that the current user is\n",
    "    the author.\n",
    "    :param id: id of post to get\n",
    "    :param check_author: require the current user to be the author\n",
    "    :return: the post with author information\n",
    "    :raise 404: if a post with the given id doesn't exist\n",
    "    :raise 403: if the current user isn't the author\n",
    "    \"\"\"\n",
    "    post = g.service.read_post_by_id(g.user[\"id\"],id)\n",
    "    \n",
    "    if post is None:\n",
    "        abort(404, \"Post id {0} doesn't exist.\".format(id))\n",
    "\n",
    "    if check_author and post[\"author_id\"] != g.user[\"id\"]:\n",
    "        # TODO: this is no longer relevant\n",
    "        abort(403)\n",
    "\n",
    "    return post"
   ]
  },
  {
   "cell_type": "code",
   "execution_count": null,
   "id": "adverse-request",
   "metadata": {},
   "outputs": [],
   "source": [
    "#export\n",
    "@bp.route(\"/create\", methods=(\"GET\", \"POST\"))\n",
    "@login_required\n",
    "def create():\n",
    "    \"\"\"Create a new post for the current user.\"\"\"\n",
    "    if request.method == \"POST\":\n",
    "        title = request.form[\"title\"]\n",
    "        body = request.form[\"body\"]\n",
    "        error = None\n",
    "\n",
    "        if not title:\n",
    "            error = \"Title is required.\"\n",
    "\n",
    "        if error is not None:\n",
    "            flash(error)\n",
    "        else:\n",
    "            g.service.create_post(g.user[\"id\"],title,body)\n",
    "            return redirect(url_for(\"blog.index\"))\n",
    "\n",
    "    return render_template(\"blog/create.html\")"
   ]
  },
  {
   "cell_type": "code",
   "execution_count": null,
   "id": "instant-essay",
   "metadata": {},
   "outputs": [],
   "source": [
    "#export\n",
    "@bp.route(\"/<int:id>/update\", methods=(\"GET\", \"POST\"))\n",
    "@login_required\n",
    "def update(id):\n",
    "    \"\"\"Update a post if the current user is the author.\"\"\"\n",
    "    post = get_post(id)\n",
    "\n",
    "    if request.method == \"POST\":\n",
    "        title = request.form[\"title\"]\n",
    "        body = request.form[\"body\"]\n",
    "        error = None\n",
    "\n",
    "        if not title:\n",
    "            error = \"Title is required.\"\n",
    "\n",
    "        if error is not None:\n",
    "            flash(error)\n",
    "        else:\n",
    "            g.service.update_post_by_id(g.user[\"id\"],id,['title','body'],[title,body])\n",
    "            return redirect(url_for(\"blog.index\"))\n",
    "\n",
    "    return render_template(\"blog/update.html\", post=post)"
   ]
  },
  {
   "cell_type": "code",
   "execution_count": null,
   "id": "lesbian-journalism",
   "metadata": {},
   "outputs": [],
   "source": [
    "#export\n",
    "@bp.route(\"/<int:id>/delete\", methods=(\"POST\",))\n",
    "@login_required\n",
    "def delete(id):\n",
    "    \"\"\"Delete a post.\n",
    "    Ensures that the post exists and that the logged in user is the\n",
    "    author of the post.\n",
    "    \"\"\"\n",
    "    get_post(id)\n",
    "    g.service.delete_post_by_id(g.user[\"id\"],id)\n",
    "    return redirect(url_for(\"blog.index\"))"
   ]
  },
  {
   "cell_type": "code",
   "execution_count": null,
   "id": "independent-dream",
   "metadata": {},
   "outputs": [],
   "source": [
    "#export\n",
    "@bp.route('/download')\n",
    "@login_required\n",
    "def download():\n",
    "    directory,filename=g.service.prepare_posts_file_by_author_id(g.user[\"id\"])\n",
    "    if directory is None:\n",
    "        username=g.user['username']\n",
    "        abort(404, f'No data found for {username}')\n",
    "    return send_from_directory(directory,filename,as_attachment=True)"
   ]
  },
  {
   "cell_type": "code",
   "execution_count": null,
   "id": "supposed-broad",
   "metadata": {},
   "outputs": [],
   "source": [
    "#export\n",
    "@bp.route('/upload',methods=['POST'])\n",
    "@login_required\n",
    "def upload():\n",
    "    if 'file' not in request.files:\n",
    "        abort(400, 'No file part')\n",
    "    file=request.files['file']\n",
    "    if file.filename=='': \n",
    "        abort(400, 'No selected file')\n",
    "    path=Path(tempfile.gettempdir())/f'entries-upload-{round(time.time()*1000)}'\n",
    "    try:\n",
    "        file.save(path)\n",
    "        g.service.upload_posts_from_file(g.user[\"id\"],path)\n",
    "    finally:\n",
    "        path.unlink()\n",
    "    return \"ok\""
   ]
  },
  {
   "cell_type": "code",
   "execution_count": null,
   "id": "mental-wagon",
   "metadata": {},
   "outputs": [
    {
     "name": "stdout",
     "output_type": "stream",
     "text": [
      "Converted 00_core.ipynb.\n",
      "Converted 40a_service_db.ipynb.\n",
      "Converted 40b_service_filesystem.ipynb.\n",
      "Converted 50_web_app.ipynb.\n",
      "Converted 50b_web_auth.ipynb.\n",
      "Converted 50c_web_blog.ipynb.\n",
      "Converted index.ipynb.\n"
     ]
    }
   ],
   "source": [
    "#hide\n",
    "from nbdev.export import notebook2script\n",
    "notebook2script()"
   ]
  }
 ],
 "metadata": {
  "kernelspec": {
   "display_name": "Python 3",
   "language": "python",
   "name": "python3"
  }
 },
 "nbformat": 4,
 "nbformat_minor": 5
}
