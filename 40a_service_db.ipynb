{
 "cells": [
  {
   "cell_type": "code",
   "execution_count": null,
   "metadata": {},
   "outputs": [],
   "source": [
    "#default_exp service.db"
   ]
  },
  {
   "cell_type": "markdown",
   "metadata": {},
   "source": [
    "# Service Db\n",
    "\n",
    "> Handles sqlite DB access and initialization."
   ]
  },
  {
   "cell_type": "code",
   "execution_count": null,
   "metadata": {},
   "outputs": [],
   "source": [
    "#export\n",
    "import sqlite3\n",
    "from pathlib import Path"
   ]
  },
  {
   "cell_type": "code",
   "execution_count": null,
   "metadata": {},
   "outputs": [],
   "source": [
    "import tempfile,shutil"
   ]
  },
  {
   "cell_type": "markdown",
   "metadata": {},
   "source": [
    "## DB init script\n",
    "\n",
    "Put this here to avoid having to locate a \"schema.sql\" file in different environments.\n",
    "\n",
    "This script will\n",
    "- Initialize the database.\n",
    "- Drop any existing data and create empty tables."
   ]
  },
  {
   "cell_type": "code",
   "execution_count": null,
   "metadata": {},
   "outputs": [],
   "source": [
    "#export\n",
    "SCHEMA_SQL=\"\"\"\n",
    "DROP TABLE IF EXISTS user;\n",
    "DROP TABLE IF EXISTS post;\n",
    "\n",
    "CREATE TABLE user (\n",
    "  id INTEGER PRIMARY KEY AUTOINCREMENT,\n",
    "  username TEXT UNIQUE NOT NULL,\n",
    "  password TEXT NOT NULL\n",
    ");\n",
    "\n",
    "CREATE TABLE post (\n",
    "  id INTEGER PRIMARY KEY AUTOINCREMENT,\n",
    "  author_id INTEGER NOT NULL,\n",
    "  created TIMESTAMP NOT NULL DEFAULT CURRENT_TIMESTAMP,\n",
    "  title TEXT NOT NULL,\n",
    "  body TEXT NOT NULL,\n",
    "  is_deleted INTEGER NOT NULL DEFAULT 0,\n",
    "  FOREIGN KEY (author_id) REFERENCES user (id)\n",
    ");\n",
    "\"\"\""
   ]
  },
  {
   "cell_type": "code",
   "execution_count": null,
   "metadata": {},
   "outputs": [],
   "source": [
    "#export\n",
    "class ServiceDb:\n",
    "    \n",
    "    def __init__(self,database_file):\n",
    "        self.db = sqlite3.connect(\n",
    "            database_file, detect_types=sqlite3.PARSE_DECLTYPES\n",
    "        )\n",
    "        self.db.row_factory = sqlite3.Row\n",
    "    \n",
    "    def read_user_by_id(self,id): \n",
    "        return self.db.execute(\n",
    "            \"SELECT * FROM user WHERE id = ?\", (id,)\n",
    "        ).fetchone()\n",
    "    \n",
    "    def read_user_by_username(self,username): \n",
    "        return self.db.execute(\n",
    "            \"SELECT * FROM user WHERE username = ?\", (username,)\n",
    "        ).fetchone()\n",
    "    \n",
    "    def create_user(self,username,password):\n",
    "        cursor=self.db.cursor()\n",
    "        cursor.execute(\n",
    "            \"INSERT INTO user (username, password) VALUES (?, ?)\",\n",
    "            (username, password),\n",
    "        )\n",
    "        self.db.commit()\n",
    "        return cursor.lastrowid\n",
    "        \n",
    "    def read_posts_by_author_id(self,author_id): \n",
    "        return self.db.execute(\n",
    "            \"SELECT p.id, title, body, strftime('%Y-%m-%d %H:%M:%S',created) created, author_id, username, is_deleted\"\n",
    "            \"  FROM post p JOIN user u ON p.author_id = u.id\"\n",
    "            \" WHERE u.id = ?\"\n",
    "            \"   AND p.is_deleted = 0\"\n",
    "            \" ORDER BY created DESC\",\n",
    "            (author_id,)\n",
    "        ).fetchall()\n",
    "    \n",
    "    def read_post_by_id(self,author_id,id): \n",
    "        return self.db.execute(\n",
    "            \"SELECT p.id, title, body, strftime('%Y-%m-%d %H:%M:%S',created) created, author_id, username, is_deleted\"\n",
    "            \"  FROM post p JOIN user u ON p.author_id = u.id\"\n",
    "            \" WHERE p.author_id = ?\"\n",
    "            \"   AND p.id = ?\",\n",
    "            (author_id,id,),\n",
    "        ).fetchone()\n",
    "    \n",
    "    def create_post(self,author_id,title,body):\n",
    "        cursor=self.db.cursor()\n",
    "        cursor.execute(\n",
    "            \"INSERT INTO post (author_id, title, body) VALUES (?, ?, ?)\",\n",
    "            (author_id, title, body),\n",
    "        )\n",
    "        self.db.commit()\n",
    "        return cursor.lastrowid\n",
    "    \n",
    "    def update_post_by_id(self,author_id,id,title,body):\n",
    "        # TODO: use author_id\n",
    "        self.db.execute(\n",
    "            \"UPDATE post SET title = ?, body = ? WHERE id = ?\", (title, body, id)\n",
    "        )\n",
    "        self.db.commit()\n",
    "    \n",
    "    def delete_post_by_id(self,author_id,id):\n",
    "        # TODO: use author_id\n",
    "        self.db.execute(\"UPDATE post SET is_deleted = 1 WHERE id = ?\", (id,))\n",
    "        self.db.commit()\n",
    "        \n",
    "    def prepare_posts_file_by_author_id(self,author_id):\n",
    "        # TODO: implement for DB service\n",
    "        return None,None"
   ]
  },
  {
   "cell_type": "code",
   "execution_count": null,
   "metadata": {},
   "outputs": [],
   "source": [
    "def _compare(expected,actual):\n",
    "    \"Check values match for all keys in `expected`, which might not be all keys in `actual`\"\n",
    "    for k in expected.keys(): \n",
    "        try:\n",
    "            if expected[k]!=actual[k]: print(k,expected[k],actual[k])\n",
    "        except Exception as ex:\n",
    "            print('failed to check',k,ex)\n",
    "            print('actual.keys()',actual.keys())\n",
    "        assert expected[k]==actual[k]\n",
    "\n",
    "temp_path = tempfile.mkdtemp()\n",
    "try:\n",
    "    service=ServiceDb(Path(temp_path)/'web_journal_test.sqlite')\n",
    "    # init\n",
    "    service.db.executescript(SCHEMA_SQL)\n",
    "    # user section\n",
    "    assert service.read_user_by_id(1234) is None\n",
    "    assert service.read_user_by_username('test.user') is None\n",
    "    user_id=service.create_user('test.user','badPassword')\n",
    "    expected_user=dict(id=user_id,username='test.user',password='badPassword')\n",
    "    actual_user=service.read_user_by_username('test.user')\n",
    "    _compare(expected_user,actual_user)\n",
    "    assert actual_user==service.read_user_by_id(user_id)\n",
    "    _compare(expected_user,service.read_user_by_id(user_id))\n",
    "    # post section\n",
    "    assert service.read_posts_by_author_id(123)==[]\n",
    "    assert service.read_posts_by_author_id(user_id)==[]\n",
    "    assert service.read_post_by_id(user_id,123) is None\n",
    "    for i in range(3): service.create_post(user_id,f'title{i}','body')\n",
    "    post_id=service.create_post(user_id,'title','body')\n",
    "    for i in range(3): service.create_post(user_id,f'title{i}2','body')\n",
    "    # don't add created to `expected_post` as we don't know what it's value will be\n",
    "    expected_post=dict(id=post_id,author_id=user_id,title='title',body='body',username='test.user',is_deleted=0)\n",
    "    posts=service.read_posts_by_author_id(user_id)\n",
    "    assert len(posts)==7\n",
    "    _compare(expected_post,posts[3])\n",
    "    assert isinstance(posts[3]['created'],str)\n",
    "    post=service.read_post_by_id(user_id,post_id)\n",
    "    assert post==posts[3]\n",
    "    assert post['is_deleted']==0\n",
    "    assert post!=service.delete_post_by_id(user_id,post_id)\n",
    "    expected_post['is_deleted']=1\n",
    "    # deleted posts are readable by ID ...\n",
    "    _compare(expected_post,service.read_post_by_id(user_id,post_id))\n",
    "    # but are not returned when reading all posts by author\n",
    "    assert len(service.read_posts_by_author_id(user_id))==6\n",
    "    \n",
    "finally:\n",
    "    service.db.close()\n",
    "    shutil.rmtree(temp_path)"
   ]
  },
  {
   "cell_type": "code",
   "execution_count": null,
   "metadata": {},
   "outputs": [],
   "source": [
    "#export\n",
    "def before_request(app):\n",
    "    return ServiceDb(Path(app.config['DATA_DIR'])/'web_journal.sqlite')"
   ]
  },
  {
   "cell_type": "code",
   "execution_count": null,
   "metadata": {},
   "outputs": [],
   "source": [
    "#export\n",
    "def after_request(app,service):\n",
    "    service.db.close()"
   ]
  },
  {
   "cell_type": "code",
   "execution_count": null,
   "metadata": {},
   "outputs": [],
   "source": [
    "#export\n",
    "def init_service(app):\n",
    "    print('service.db.init_service')\n",
    "    service=ServiceDb(Path(app.config['DATA_DIR'])/'web_journal.sqlite')\n",
    "    try:\n",
    "        # This will raise an error if the user table has not been created ...\n",
    "        service.read_user_by_id(0)\n",
    "    except:\n",
    "        # ... so we know we need to create the schema\n",
    "        service.db.executescript(SCHEMA_SQL)"
   ]
  },
  {
   "cell_type": "code",
   "execution_count": null,
   "metadata": {},
   "outputs": [
    {
     "name": "stdout",
     "output_type": "stream",
     "text": [
      "Converted 00_core.ipynb.\n",
      "Converted 40a_service_db.ipynb.\n",
      "Converted 40b_service_filesystem.ipynb.\n",
      "Converted 50_web_app.ipynb.\n",
      "Converted 50b_web_auth.ipynb.\n",
      "Converted 50c_web_blog.ipynb.\n",
      "Converted index.ipynb.\n"
     ]
    }
   ],
   "source": [
    "from nbdev.export import notebook2script\n",
    "notebook2script()"
   ]
  }
 ],
 "metadata": {
  "kernelspec": {
   "display_name": "Python 3",
   "language": "python",
   "name": "python3"
  }
 },
 "nbformat": 4,
 "nbformat_minor": 2
}
