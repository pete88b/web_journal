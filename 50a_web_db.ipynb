{
 "cells": [
  {
   "cell_type": "code",
   "execution_count": null,
   "metadata": {},
   "outputs": [],
   "source": [
    "#default_exp web.db"
   ]
  },
  {
   "cell_type": "markdown",
   "metadata": {},
   "source": [
    "# Web Db\n",
    "\n",
    "> Handles sqlite DB access and initialization."
   ]
  },
  {
   "cell_type": "code",
   "execution_count": null,
   "metadata": {},
   "outputs": [],
   "source": [
    "#export\n",
    "import click, sqlite3\n",
    "from flask import current_app, g\n",
    "from flask.cli import with_appcontext"
   ]
  },
  {
   "cell_type": "code",
   "execution_count": null,
   "metadata": {},
   "outputs": [],
   "source": [
    "#export\n",
    "def get_db():\n",
    "    \"\"\"Connect to the application's configured database. The connection\n",
    "    is unique for each request and will be reused if this is called\n",
    "    again.\n",
    "    \"\"\"\n",
    "    if \"db\" not in g:\n",
    "        g.db = sqlite3.connect(\n",
    "            current_app.config[\"DATABASE\"], detect_types=sqlite3.PARSE_DECLTYPES\n",
    "        )\n",
    "        g.db.row_factory = sqlite3.Row\n",
    "    return g.db\n",
    "\n",
    "def close_db(exception=None):\n",
    "    \"\"\"If this request connected to the database, close the\n",
    "    connection.\n",
    "    \"\"\"\n",
    "    db = g.pop(\"db\", None)\n",
    "    if db is not None: db.close()\n",
    "\n",
    "def init_db():\n",
    "    \"\"\"Clear existing data and create new tables.\"\"\"\n",
    "    db = get_db()\n",
    "    with current_app.open_resource(\"schema.sql\") as f:\n",
    "        db.executescript(f.read().decode(\"utf8\"))\n",
    "\n",
    "@click.command(\"init-db\")\n",
    "@with_appcontext\n",
    "def init_db_command():\n",
    "    \"\"\"Clear existing data and create new tables.\"\"\"\n",
    "    init_db()\n",
    "    click.echo(\"Initialized the database.\")\n",
    "    \n",
    "def init_app(app):\n",
    "    \"\"\"Register database functions with the Flask app. This is called by\n",
    "    the application factory.\n",
    "    \"\"\"\n",
    "    app.teardown_appcontext(close_db)\n",
    "    app.cli.add_command(init_db_command)"
   ]
  },
  {
   "cell_type": "code",
   "execution_count": null,
   "metadata": {},
   "outputs": [],
   "source": [
    "#hide\n",
    "from flask import Flask\n",
    "from contextlib import contextmanager\n",
    "from pathlib import Path\n",
    "import tempfile, shutil, os, web_journal.web\n",
    "\n",
    "def cd(p):\n",
    "    print('Changing working directory:') # TODO: maybe we want to suppress stdout\n",
    "    get_ipython().run_line_magic('cd', str(p))\n",
    "\n",
    "@contextmanager\n",
    "def test_resources():\n",
    "    db_fd, db_path = tempfile.mkstemp()\n",
    "    try:\n",
    "        cwd = get_ipython().run_line_magic('pwd', '')\n",
    "        cd(Path(web_journal.web.__file__).parent)\n",
    "        app = Flask(__name__, instance_relative_config=True)\n",
    "        app.config.from_mapping(SECRET_KEY=\"dev\",TESTING=True,DATABASE=db_path)\n",
    "        init_app(app)\n",
    "        with app.app_context():\n",
    "            yield app\n",
    "    finally:\n",
    "        cd(cwd)\n",
    "        os.close(db_fd)\n",
    "        os.unlink(db_path) # this would fail if close_db has not been called"
   ]
  },
  {
   "cell_type": "code",
   "execution_count": null,
   "metadata": {},
   "outputs": [
    {
     "name": "stdout",
     "output_type": "stream",
     "text": [
      "Changing working directory:\n",
      "C:\\Users\\Butterp\\github\\pete88b\\web_journal\\web_journal\\web\n",
      "Changing working directory:\n",
      "C:\\Users\\Butterp\\github\\pete88b\\web_journal\n"
     ]
    }
   ],
   "source": [
    "with test_resources() as app:\n",
    "    db = get_db()\n",
    "    assert db == get_db()\n",
    "    cursor = db.cursor()\n",
    "    cursor.execute(\"SELECT name FROM sqlite_master WHERE type='table'\")\n",
    "    assert [] == cursor.fetchall()\n",
    "    init_db()\n",
    "    cursor.execute(\"SELECT name FROM sqlite_master WHERE type='table' AND NAME NOT LIKE 'sql%'\")\n",
    "    assert ['post','user'] == sorted([r[0] for r in cursor.fetchall()])"
   ]
  },
  {
   "cell_type": "code",
   "execution_count": null,
   "metadata": {},
   "outputs": [],
   "source": []
  }
 ],
 "metadata": {
  "kernelspec": {
   "display_name": "Python 3",
   "language": "python",
   "name": "python3"
  }
 },
 "nbformat": 4,
 "nbformat_minor": 5
}
